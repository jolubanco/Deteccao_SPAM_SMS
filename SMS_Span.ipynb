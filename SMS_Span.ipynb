{
  "nbformat": 4,
  "nbformat_minor": 0,
  "metadata": {
    "colab": {
      "name": "SMS Span",
      "provenance": [],
      "collapsed_sections": [
        "eXQzuFY59mVH"
      ]
    },
    "kernelspec": {
      "name": "python3",
      "display_name": "Python 3"
    }
  },
  "cells": [
    {
      "cell_type": "markdown",
      "metadata": {
        "id": "cby2ULMbEse-"
      },
      "source": [
        "#Tratando os Dados"
      ]
    },
    {
      "cell_type": "code",
      "metadata": {
        "id": "7isxM3j_k4ad",
        "colab": {
          "base_uri": "https://localhost:8080/"
        },
        "outputId": "f1775af7-f1ab-494b-e455-feb04c346b71"
      },
      "source": [
        "import numpy as np\r\n",
        "import pandas as pd\r\n",
        "import string\r\n",
        "from sklearn.feature_extraction.text import TfidfVectorizer\r\n",
        "from sklearn.model_selection import train_test_split\r\n",
        "import nltk\r\n",
        "from nltk.corpus import stopwords\r\n",
        "from nltk.stem import SnowballStemmer\r\n",
        "nltk.download('stopwords')\r\n",
        "from sklearn.metrics import precision_recall_fscore_support as score"
      ],
      "execution_count": 1,
      "outputs": [
        {
          "output_type": "stream",
          "text": [
            "[nltk_data] Downloading package stopwords to /root/nltk_data...\n",
            "[nltk_data]   Unzipping corpora/stopwords.zip.\n"
          ],
          "name": "stdout"
        }
      ]
    },
    {
      "cell_type": "code",
      "metadata": {
        "id": "H_ppPIA0k7mS"
      },
      "source": [
        "sms = pd.read_csv('train_data.csv')\r\n",
        "validacao = pd.read_csv('validation_data.csv')"
      ],
      "execution_count": 2,
      "outputs": []
    },
    {
      "cell_type": "code",
      "metadata": {
        "colab": {
          "base_uri": "https://localhost:8080/",
          "height": 204
        },
        "id": "J27cPvtalM2M",
        "outputId": "90473bfc-5122-4896-9031-b0d611546e2b"
      },
      "source": [
        "sms.head(5)"
      ],
      "execution_count": 3,
      "outputs": [
        {
          "output_type": "execute_result",
          "data": {
            "text/html": [
              "<div>\n",
              "<style scoped>\n",
              "    .dataframe tbody tr th:only-of-type {\n",
              "        vertical-align: middle;\n",
              "    }\n",
              "\n",
              "    .dataframe tbody tr th {\n",
              "        vertical-align: top;\n",
              "    }\n",
              "\n",
              "    .dataframe thead th {\n",
              "        text-align: right;\n",
              "    }\n",
              "</style>\n",
              "<table border=\"1\" class=\"dataframe\">\n",
              "  <thead>\n",
              "    <tr style=\"text-align: right;\">\n",
              "      <th></th>\n",
              "      <th>SMS</th>\n",
              "      <th>LABEL</th>\n",
              "    </tr>\n",
              "  </thead>\n",
              "  <tbody>\n",
              "    <tr>\n",
              "      <th>0</th>\n",
              "      <td>BOLETO REFERENTE AS PARCELAS EM ATRASO DO CONS...</td>\n",
              "      <td>blocked</td>\n",
              "    </tr>\n",
              "    <tr>\n",
              "      <th>1</th>\n",
              "      <td>050003DA0202|lcloud-apple-lnc.com/?iphone=VtBq...</td>\n",
              "      <td>blocked</td>\n",
              "    </tr>\n",
              "    <tr>\n",
              "      <th>2</th>\n",
              "      <td>060804CB5F0303|ps: //bancodobrasil.seguranca.gq</td>\n",
              "      <td>blocked</td>\n",
              "    </tr>\n",
              "    <tr>\n",
              "      <th>3</th>\n",
              "      <td>Atualizacao ainda nao foi executado em sua con...</td>\n",
              "      <td>blocked</td>\n",
              "    </tr>\n",
              "    <tr>\n",
              "      <th>4</th>\n",
              "      <td>0608042BE40303|ps://bancodobrasil.seguranca.cf/</td>\n",
              "      <td>blocked</td>\n",
              "    </tr>\n",
              "  </tbody>\n",
              "</table>\n",
              "</div>"
            ],
            "text/plain": [
              "                                                 SMS    LABEL\n",
              "0  BOLETO REFERENTE AS PARCELAS EM ATRASO DO CONS...  blocked\n",
              "1  050003DA0202|lcloud-apple-lnc.com/?iphone=VtBq...  blocked\n",
              "2    060804CB5F0303|ps: //bancodobrasil.seguranca.gq  blocked\n",
              "3  Atualizacao ainda nao foi executado em sua con...  blocked\n",
              "4    0608042BE40303|ps://bancodobrasil.seguranca.cf/  blocked"
            ]
          },
          "metadata": {
            "tags": []
          },
          "execution_count": 3
        }
      ]
    },
    {
      "cell_type": "code",
      "metadata": {
        "colab": {
          "base_uri": "https://localhost:8080/",
          "height": 419
        },
        "id": "qENCVj1hllYQ",
        "outputId": "537a0b98-48c2-47e0-8971-b2d7df70868a"
      },
      "source": [
        "sms.query('LABEL != \"blocked\"')"
      ],
      "execution_count": 4,
      "outputs": [
        {
          "output_type": "execute_result",
          "data": {
            "text/html": [
              "<div>\n",
              "<style scoped>\n",
              "    .dataframe tbody tr th:only-of-type {\n",
              "        vertical-align: middle;\n",
              "    }\n",
              "\n",
              "    .dataframe tbody tr th {\n",
              "        vertical-align: top;\n",
              "    }\n",
              "\n",
              "    .dataframe thead th {\n",
              "        text-align: right;\n",
              "    }\n",
              "</style>\n",
              "<table border=\"1\" class=\"dataframe\">\n",
              "  <thead>\n",
              "    <tr style=\"text-align: right;\">\n",
              "      <th></th>\n",
              "      <th>SMS</th>\n",
              "      <th>LABEL</th>\n",
              "    </tr>\n",
              "  </thead>\n",
              "  <tbody>\n",
              "    <tr>\n",
              "      <th>1500</th>\n",
              "      <td>recuperamos seu usuario e senha de acesso no i...</td>\n",
              "      <td>ok</td>\n",
              "    </tr>\n",
              "    <tr>\n",
              "      <th>1501</th>\n",
              "      <td>recuperamos seu usuario e senha de acesso no i...</td>\n",
              "      <td>ok</td>\n",
              "    </tr>\n",
              "    <tr>\n",
              "      <th>1502</th>\n",
              "      <td>MARSH CORRETORA: Felipe, boleto parc. 01 do Se...</td>\n",
              "      <td>ok</td>\n",
              "    </tr>\n",
              "    <tr>\n",
              "      <th>1503</th>\n",
              "      <td>MARSH CORRETORA: Felipe, boleto parc. 01 do Se...</td>\n",
              "      <td>ok</td>\n",
              "    </tr>\n",
              "    <tr>\n",
              "      <th>1504</th>\n",
              "      <td>MARSH CORRETORA: Anna, boleto parc. 01 do Seg ...</td>\n",
              "      <td>ok</td>\n",
              "    </tr>\n",
              "    <tr>\n",
              "      <th>...</th>\n",
              "      <td>...</td>\n",
              "      <td>...</td>\n",
              "    </tr>\n",
              "    <tr>\n",
              "      <th>5995</th>\n",
              "      <td>Host : RB_Bicanga Ip: 170.244.231.14 nao esta ...</td>\n",
              "      <td>ok</td>\n",
              "    </tr>\n",
              "    <tr>\n",
              "      <th>5996</th>\n",
              "      <td>Host : RB§Bicanga Ip: 170.244.231.14 nao esta ...</td>\n",
              "      <td>ok</td>\n",
              "    </tr>\n",
              "    <tr>\n",
              "      <th>5997</th>\n",
              "      <td>Host : RB§Bicanga Ip: 170.244.231.14 nao esta ...</td>\n",
              "      <td>ok</td>\n",
              "    </tr>\n",
              "    <tr>\n",
              "      <th>5998</th>\n",
              "      <td>Host : RB_Bicanga Ip: 170.244.231.14 nao esta ...</td>\n",
              "      <td>ok</td>\n",
              "    </tr>\n",
              "    <tr>\n",
              "      <th>5999</th>\n",
              "      <td>050003730201|Faça login no aplicativo OlympTra...</td>\n",
              "      <td>ok</td>\n",
              "    </tr>\n",
              "  </tbody>\n",
              "</table>\n",
              "<p>4500 rows × 2 columns</p>\n",
              "</div>"
            ],
            "text/plain": [
              "                                                    SMS LABEL\n",
              "1500  recuperamos seu usuario e senha de acesso no i...    ok\n",
              "1501  recuperamos seu usuario e senha de acesso no i...    ok\n",
              "1502  MARSH CORRETORA: Felipe, boleto parc. 01 do Se...    ok\n",
              "1503  MARSH CORRETORA: Felipe, boleto parc. 01 do Se...    ok\n",
              "1504  MARSH CORRETORA: Anna, boleto parc. 01 do Seg ...    ok\n",
              "...                                                 ...   ...\n",
              "5995  Host : RB_Bicanga Ip: 170.244.231.14 nao esta ...    ok\n",
              "5996  Host : RB§Bicanga Ip: 170.244.231.14 nao esta ...    ok\n",
              "5997  Host : RB§Bicanga Ip: 170.244.231.14 nao esta ...    ok\n",
              "5998  Host : RB_Bicanga Ip: 170.244.231.14 nao esta ...    ok\n",
              "5999  050003730201|Faça login no aplicativo OlympTra...    ok\n",
              "\n",
              "[4500 rows x 2 columns]"
            ]
          },
          "metadata": {
            "tags": []
          },
          "execution_count": 4
        }
      ]
    },
    {
      "cell_type": "code",
      "metadata": {
        "colab": {
          "base_uri": "https://localhost:8080/"
        },
        "id": "RqKMJHQtlU3D",
        "outputId": "82c3e541-4c86-4392-aced-383f0758ee25"
      },
      "source": [
        "sms.shape"
      ],
      "execution_count": 5,
      "outputs": [
        {
          "output_type": "execute_result",
          "data": {
            "text/plain": [
              "(6000, 2)"
            ]
          },
          "metadata": {
            "tags": []
          },
          "execution_count": 5
        }
      ]
    },
    {
      "cell_type": "code",
      "metadata": {
        "colab": {
          "base_uri": "https://localhost:8080/",
          "height": 204
        },
        "id": "-yIzFL1-lP7n",
        "outputId": "25b970d4-1ff2-453c-b26d-5327a761b6a5"
      },
      "source": [
        "validacao.head()"
      ],
      "execution_count": 6,
      "outputs": [
        {
          "output_type": "execute_result",
          "data": {
            "text/html": [
              "<div>\n",
              "<style scoped>\n",
              "    .dataframe tbody tr th:only-of-type {\n",
              "        vertical-align: middle;\n",
              "    }\n",
              "\n",
              "    .dataframe tbody tr th {\n",
              "        vertical-align: top;\n",
              "    }\n",
              "\n",
              "    .dataframe thead th {\n",
              "        text-align: right;\n",
              "    }\n",
              "</style>\n",
              "<table border=\"1\" class=\"dataframe\">\n",
              "  <thead>\n",
              "    <tr style=\"text-align: right;\">\n",
              "      <th></th>\n",
              "      <th>SMS</th>\n",
              "    </tr>\n",
              "  </thead>\n",
              "  <tbody>\n",
              "    <tr>\n",
              "      <th>0</th>\n",
              "      <td>BB informa:Prezado cliente suas senhas de ACES...</td>\n",
              "    </tr>\n",
              "    <tr>\n",
              "      <th>1</th>\n",
              "      <td>BB informa:Prezado cliente suas senhas de ACES...</td>\n",
              "    </tr>\n",
              "    <tr>\n",
              "      <th>2</th>\n",
              "      <td>BB informa:Prezado cliente suas senhas de ACES...</td>\n",
              "    </tr>\n",
              "    <tr>\n",
              "      <th>3</th>\n",
              "      <td>Node Warning: SFRO01H000001.call.br Warning em...</td>\n",
              "    </tr>\n",
              "    <tr>\n",
              "      <th>4</th>\n",
              "      <td>BB informa:Prezado cliente suas senhas de ACES...</td>\n",
              "    </tr>\n",
              "  </tbody>\n",
              "</table>\n",
              "</div>"
            ],
            "text/plain": [
              "                                                 SMS\n",
              "0  BB informa:Prezado cliente suas senhas de ACES...\n",
              "1  BB informa:Prezado cliente suas senhas de ACES...\n",
              "2  BB informa:Prezado cliente suas senhas de ACES...\n",
              "3  Node Warning: SFRO01H000001.call.br Warning em...\n",
              "4  BB informa:Prezado cliente suas senhas de ACES..."
            ]
          },
          "metadata": {
            "tags": []
          },
          "execution_count": 6
        }
      ]
    },
    {
      "cell_type": "code",
      "metadata": {
        "colab": {
          "base_uri": "https://localhost:8080/"
        },
        "id": "ZzmL8vmclSCL",
        "outputId": "7b3bc2e2-9dd5-4e8c-d013-32117b12f515"
      },
      "source": [
        "validacao.shape"
      ],
      "execution_count": 7,
      "outputs": [
        {
          "output_type": "execute_result",
          "data": {
            "text/plain": [
              "(2000, 1)"
            ]
          },
          "metadata": {
            "tags": []
          },
          "execution_count": 7
        }
      ]
    },
    {
      "cell_type": "code",
      "metadata": {
        "colab": {
          "base_uri": "https://localhost:8080/",
          "height": 173
        },
        "id": "H0D21VBHPk8P",
        "outputId": "91a3080d-9612-47d5-8e04-5a8dae4af95e"
      },
      "source": [
        "sms.groupby('LABEL').describe()"
      ],
      "execution_count": 8,
      "outputs": [
        {
          "output_type": "execute_result",
          "data": {
            "text/html": [
              "<div>\n",
              "<style scoped>\n",
              "    .dataframe tbody tr th:only-of-type {\n",
              "        vertical-align: middle;\n",
              "    }\n",
              "\n",
              "    .dataframe tbody tr th {\n",
              "        vertical-align: top;\n",
              "    }\n",
              "\n",
              "    .dataframe thead tr th {\n",
              "        text-align: left;\n",
              "    }\n",
              "\n",
              "    .dataframe thead tr:last-of-type th {\n",
              "        text-align: right;\n",
              "    }\n",
              "</style>\n",
              "<table border=\"1\" class=\"dataframe\">\n",
              "  <thead>\n",
              "    <tr>\n",
              "      <th></th>\n",
              "      <th colspan=\"4\" halign=\"left\">SMS</th>\n",
              "    </tr>\n",
              "    <tr>\n",
              "      <th></th>\n",
              "      <th>count</th>\n",
              "      <th>unique</th>\n",
              "      <th>top</th>\n",
              "      <th>freq</th>\n",
              "    </tr>\n",
              "    <tr>\n",
              "      <th>LABEL</th>\n",
              "      <th></th>\n",
              "      <th></th>\n",
              "      <th></th>\n",
              "      <th></th>\n",
              "    </tr>\n",
              "  </thead>\n",
              "  <tbody>\n",
              "    <tr>\n",
              "      <th>blocked</th>\n",
              "      <td>1500</td>\n",
              "      <td>1495</td>\n",
              "      <td>Mercado BTC - Ha uma nova mensagem pendente. h...</td>\n",
              "      <td>3</td>\n",
              "    </tr>\n",
              "    <tr>\n",
              "      <th>ok</th>\n",
              "      <td>4500</td>\n",
              "      <td>4364</td>\n",
              "      <td>131.221.110.19 DNS-SECUNDARIO</td>\n",
              "      <td>13</td>\n",
              "    </tr>\n",
              "  </tbody>\n",
              "</table>\n",
              "</div>"
            ],
            "text/plain": [
              "          SMS                                                               \n",
              "        count unique                                                top freq\n",
              "LABEL                                                                       \n",
              "blocked  1500   1495  Mercado BTC - Ha uma nova mensagem pendente. h...    3\n",
              "ok       4500   4364                      131.221.110.19 DNS-SECUNDARIO   13"
            ]
          },
          "metadata": {
            "tags": []
          },
          "execution_count": 8
        }
      ]
    },
    {
      "cell_type": "markdown",
      "metadata": {
        "id": "C32Xh5zUmdmi"
      },
      "source": [
        "# Pre-Processando as Mensagens"
      ]
    },
    {
      "cell_type": "code",
      "metadata": {
        "id": "Cr6yHHHImF1J"
      },
      "source": [
        "def text_preprocess(text):\r\n",
        "  text = text.translate(str.maketrans('', '', string.punctuation))\r\n",
        "  text = [word for word in text.split() if word.lower() not in stopwords.words('portuguese')]\r\n",
        "  return \" \".join(text)"
      ],
      "execution_count": 9,
      "outputs": []
    },
    {
      "cell_type": "code",
      "metadata": {
        "id": "IEQ3kZKUpM2Z",
        "colab": {
          "base_uri": "https://localhost:8080/"
        },
        "outputId": "b15488f3-9376-4a37-f76c-c4b8e142bbb4"
      },
      "source": [
        "sms_copy = sms.SMS.copy()\r\n",
        "sms_copy.head()"
      ],
      "execution_count": 10,
      "outputs": [
        {
          "output_type": "execute_result",
          "data": {
            "text/plain": [
              "0    BOLETO REFERENTE AS PARCELAS EM ATRASO DO CONS...\n",
              "1    050003DA0202|lcloud-apple-lnc.com/?iphone=VtBq...\n",
              "2      060804CB5F0303|ps: //bancodobrasil.seguranca.gq\n",
              "3    Atualizacao ainda nao foi executado em sua con...\n",
              "4      0608042BE40303|ps://bancodobrasil.seguranca.cf/\n",
              "Name: SMS, dtype: object"
            ]
          },
          "metadata": {
            "tags": []
          },
          "execution_count": 10
        }
      ]
    },
    {
      "cell_type": "code",
      "metadata": {
        "colab": {
          "base_uri": "https://localhost:8080/"
        },
        "id": "i6oWm7G6ncsA",
        "outputId": "ff2d1db7-edea-4d3f-ab2a-848408277226"
      },
      "source": [
        "sms_copy = sms_copy.apply(text_preprocess)\r\n",
        "sms_copy.head() "
      ],
      "execution_count": 13,
      "outputs": [
        {
          "output_type": "execute_result",
          "data": {
            "text/plain": [
              "0    BOLETO REFERENTE PARCELAS ATRASO CONSÓRCIO BBC...\n",
              "1           050003DA0202lcloudapplelnccomiphoneVtBqROY\n",
              "2            060804CB5F0303ps bancodobrasilsegurancagq\n",
              "3    Atualizacao ainda nao executado conta Evite bl...\n",
              "4             0608042BE40303psbancodobrasilsegurancacf\n",
              "Name: SMS, dtype: object"
            ]
          },
          "metadata": {
            "tags": []
          },
          "execution_count": 13
        }
      ]
    },
    {
      "cell_type": "code",
      "metadata": {
        "id": "-lYApZ_WqAeg"
      },
      "source": [
        "vetorizar = TfidfVectorizer('portuguese')"
      ],
      "execution_count": 14,
      "outputs": []
    },
    {
      "cell_type": "code",
      "metadata": {
        "colab": {
          "base_uri": "https://localhost:8080/"
        },
        "id": "v-KZiUZyRAj9",
        "outputId": "521ed5ab-4ef6-482f-e6e2-15742d39687f"
      },
      "source": [
        "sms_matriz = vetorizar.fit_transform(sms_copy)\r\n",
        "sms_matriz"
      ],
      "execution_count": 15,
      "outputs": [
        {
          "output_type": "execute_result",
          "data": {
            "text/plain": [
              "<6000x11636 sparse matrix of type '<class 'numpy.float64'>'\n",
              "\twith 58709 stored elements in Compressed Sparse Row format>"
            ]
          },
          "metadata": {
            "tags": []
          },
          "execution_count": 15
        }
      ]
    },
    {
      "cell_type": "code",
      "metadata": {
        "colab": {
          "base_uri": "https://localhost:8080/"
        },
        "id": "alfimcAROxKS",
        "outputId": "f75bd28b-beac-4fdd-8121-ec5ad4f0e587"
      },
      "source": [
        "matriz_de_validacao = vetorizar.transform(validacao.SMS)\r\n",
        "matriz_de_validacao"
      ],
      "execution_count": 16,
      "outputs": [
        {
          "output_type": "execute_result",
          "data": {
            "text/plain": [
              "<2000x11636 sparse matrix of type '<class 'numpy.float64'>'\n",
              "\twith 15465 stored elements in Compressed Sparse Row format>"
            ]
          },
          "metadata": {
            "tags": []
          },
          "execution_count": 16
        }
      ]
    },
    {
      "cell_type": "markdown",
      "metadata": {
        "id": "_smEn_BhE5B2"
      },
      "source": [
        "#Aplicando o Modelo"
      ]
    },
    {
      "cell_type": "code",
      "metadata": {
        "id": "u778YNr_RMqD"
      },
      "source": [
        "sms_train,sms_test,spam_naospam_train,spam_naospam_test = train_test_split(sms_matriz,sms.LABEL,test_size=0.3,random_state=20)"
      ],
      "execution_count": 17,
      "outputs": []
    },
    {
      "cell_type": "code",
      "metadata": {
        "colab": {
          "base_uri": "https://localhost:8080/"
        },
        "id": "DAFraD6pRkdW",
        "outputId": "6e519f04-26ee-42ab-c756-6af697b3eddf"
      },
      "source": [
        "sms_test.shape"
      ],
      "execution_count": 18,
      "outputs": [
        {
          "output_type": "execute_result",
          "data": {
            "text/plain": [
              "(1800, 11636)"
            ]
          },
          "metadata": {
            "tags": []
          },
          "execution_count": 18
        }
      ]
    },
    {
      "cell_type": "code",
      "metadata": {
        "colab": {
          "base_uri": "https://localhost:8080/"
        },
        "id": "sLMdJb01Ropm",
        "outputId": "effa45ce-745c-4511-ef09-4103c0f95de7"
      },
      "source": [
        "from sklearn.linear_model import LogisticRegression\r\n",
        "from sklearn.metrics import accuracy_score\r\n",
        "\r\n",
        "modelo = LogisticRegression(solver='liblinear',penalty='l1')\r\n",
        "modelo.fit(sms_train,spam_naospam_train)\r\n",
        "predicao = modelo.predict(sms_test)\r\n",
        "\r\n",
        "print('A acurária do modelo foi de: {}'.format(accuracy_score(spam_naospam_test,predicao).round(4)))"
      ],
      "execution_count": 19,
      "outputs": [
        {
          "output_type": "stream",
          "text": [
            "A acurária do modelo foi de: 0.9828\n"
          ],
          "name": "stdout"
        },
        {
          "output_type": "stream",
          "text": [
            "/usr/local/lib/python3.6/dist-packages/sklearn/svm/_base.py:947: ConvergenceWarning: Liblinear failed to converge, increase the number of iterations.\n",
            "  \"the number of iterations.\", ConvergenceWarning)\n"
          ],
          "name": "stderr"
        }
      ]
    },
    {
      "cell_type": "code",
      "metadata": {
        "colab": {
          "base_uri": "https://localhost:8080/"
        },
        "id": "q67AM9RIu26h",
        "outputId": "605487ee-f47f-4788-dcfc-6787c8441687"
      },
      "source": [
        "predicao"
      ],
      "execution_count": 20,
      "outputs": [
        {
          "output_type": "execute_result",
          "data": {
            "text/plain": [
              "array(['ok', 'ok', 'ok', ..., 'ok', 'blocked', 'ok'], dtype=object)"
            ]
          },
          "metadata": {
            "tags": []
          },
          "execution_count": 20
        }
      ]
    },
    {
      "cell_type": "markdown",
      "metadata": {
        "id": "6gyWGQ_kPgo-"
      },
      "source": [
        "#Validação"
      ]
    },
    {
      "cell_type": "code",
      "metadata": {
        "colab": {
          "base_uri": "https://localhost:8080/"
        },
        "id": "v6KpAJNF1kV6",
        "outputId": "8ff09323-7a77-4652-9603-f4860e3c2c81"
      },
      "source": [
        "predicao_validacao = modelo.predict(matriz_de_validacao)\r\n",
        "predicao_validacao"
      ],
      "execution_count": 21,
      "outputs": [
        {
          "output_type": "execute_result",
          "data": {
            "text/plain": [
              "array(['blocked', 'blocked', 'blocked', ..., 'ok', 'ok', 'ok'],\n",
              "      dtype=object)"
            ]
          },
          "metadata": {
            "tags": []
          },
          "execution_count": 21
        }
      ]
    },
    {
      "cell_type": "code",
      "metadata": {
        "id": "I7iAurL8PuUS"
      },
      "source": [
        "validacao['LABEL'] = predicao_validacao"
      ],
      "execution_count": 22,
      "outputs": []
    },
    {
      "cell_type": "code",
      "metadata": {
        "colab": {
          "base_uri": "https://localhost:8080/",
          "height": 204
        },
        "id": "GJbf8KlTSTtg",
        "outputId": "c66fa8a4-3ae8-470e-d999-71810363cb1f"
      },
      "source": [
        "validacao.head()"
      ],
      "execution_count": 23,
      "outputs": [
        {
          "output_type": "execute_result",
          "data": {
            "text/html": [
              "<div>\n",
              "<style scoped>\n",
              "    .dataframe tbody tr th:only-of-type {\n",
              "        vertical-align: middle;\n",
              "    }\n",
              "\n",
              "    .dataframe tbody tr th {\n",
              "        vertical-align: top;\n",
              "    }\n",
              "\n",
              "    .dataframe thead th {\n",
              "        text-align: right;\n",
              "    }\n",
              "</style>\n",
              "<table border=\"1\" class=\"dataframe\">\n",
              "  <thead>\n",
              "    <tr style=\"text-align: right;\">\n",
              "      <th></th>\n",
              "      <th>SMS</th>\n",
              "      <th>LABEL</th>\n",
              "    </tr>\n",
              "  </thead>\n",
              "  <tbody>\n",
              "    <tr>\n",
              "      <th>0</th>\n",
              "      <td>BB informa:Prezado cliente suas senhas de ACES...</td>\n",
              "      <td>blocked</td>\n",
              "    </tr>\n",
              "    <tr>\n",
              "      <th>1</th>\n",
              "      <td>BB informa:Prezado cliente suas senhas de ACES...</td>\n",
              "      <td>blocked</td>\n",
              "    </tr>\n",
              "    <tr>\n",
              "      <th>2</th>\n",
              "      <td>BB informa:Prezado cliente suas senhas de ACES...</td>\n",
              "      <td>blocked</td>\n",
              "    </tr>\n",
              "    <tr>\n",
              "      <th>3</th>\n",
              "      <td>Node Warning: SFRO01H000001.call.br Warning em...</td>\n",
              "      <td>ok</td>\n",
              "    </tr>\n",
              "    <tr>\n",
              "      <th>4</th>\n",
              "      <td>BB informa:Prezado cliente suas senhas de ACES...</td>\n",
              "      <td>blocked</td>\n",
              "    </tr>\n",
              "  </tbody>\n",
              "</table>\n",
              "</div>"
            ],
            "text/plain": [
              "                                                 SMS    LABEL\n",
              "0  BB informa:Prezado cliente suas senhas de ACES...  blocked\n",
              "1  BB informa:Prezado cliente suas senhas de ACES...  blocked\n",
              "2  BB informa:Prezado cliente suas senhas de ACES...  blocked\n",
              "3  Node Warning: SFRO01H000001.call.br Warning em...       ok\n",
              "4  BB informa:Prezado cliente suas senhas de ACES...  blocked"
            ]
          },
          "metadata": {
            "tags": []
          },
          "execution_count": 23
        }
      ]
    },
    {
      "cell_type": "code",
      "metadata": {
        "colab": {
          "base_uri": "https://localhost:8080/",
          "height": 173
        },
        "id": "AuK3IBa41rr2",
        "outputId": "cacbb7d0-f9f5-4086-a1cb-5239a0a0337f"
      },
      "source": [
        "validacao.groupby('LABEL').describe()"
      ],
      "execution_count": 24,
      "outputs": [
        {
          "output_type": "execute_result",
          "data": {
            "text/html": [
              "<div>\n",
              "<style scoped>\n",
              "    .dataframe tbody tr th:only-of-type {\n",
              "        vertical-align: middle;\n",
              "    }\n",
              "\n",
              "    .dataframe tbody tr th {\n",
              "        vertical-align: top;\n",
              "    }\n",
              "\n",
              "    .dataframe thead tr th {\n",
              "        text-align: left;\n",
              "    }\n",
              "\n",
              "    .dataframe thead tr:last-of-type th {\n",
              "        text-align: right;\n",
              "    }\n",
              "</style>\n",
              "<table border=\"1\" class=\"dataframe\">\n",
              "  <thead>\n",
              "    <tr>\n",
              "      <th></th>\n",
              "      <th colspan=\"4\" halign=\"left\">SMS</th>\n",
              "    </tr>\n",
              "    <tr>\n",
              "      <th></th>\n",
              "      <th>count</th>\n",
              "      <th>unique</th>\n",
              "      <th>top</th>\n",
              "      <th>freq</th>\n",
              "    </tr>\n",
              "    <tr>\n",
              "      <th>LABEL</th>\n",
              "      <th></th>\n",
              "      <th></th>\n",
              "      <th></th>\n",
              "      <th></th>\n",
              "    </tr>\n",
              "  </thead>\n",
              "  <tbody>\n",
              "    <tr>\n",
              "      <th>blocked</th>\n",
              "      <td>449</td>\n",
              "      <td>448</td>\n",
              "      <td>Seu aparelho perdido foi localizado e esta onl...</td>\n",
              "      <td>2</td>\n",
              "    </tr>\n",
              "    <tr>\n",
              "      <th>ok</th>\n",
              "      <td>1551</td>\n",
              "      <td>1481</td>\n",
              "      <td>Zabbix PE-BARAO-01:: BGP Session from LYRA NET...</td>\n",
              "      <td>7</td>\n",
              "    </tr>\n",
              "  </tbody>\n",
              "</table>\n",
              "</div>"
            ],
            "text/plain": [
              "          SMS                                                               \n",
              "        count unique                                                top freq\n",
              "LABEL                                                                       \n",
              "blocked   449    448  Seu aparelho perdido foi localizado e esta onl...    2\n",
              "ok       1551   1481  Zabbix PE-BARAO-01:: BGP Session from LYRA NET...    7"
            ]
          },
          "metadata": {
            "tags": []
          },
          "execution_count": 24
        }
      ]
    },
    {
      "cell_type": "code",
      "metadata": {
        "id": "fQuhWYriSy6I",
        "colab": {
          "base_uri": "https://localhost:8080/",
          "height": 17
        },
        "outputId": "28d4d6cb-b127-4d6c-b55d-c59523c38bba"
      },
      "source": [
        "from google.colab import files\r\n",
        "validacao.to_csv('validation_data.csv') \r\n",
        "files.download('validation_data.csv')"
      ],
      "execution_count": 55,
      "outputs": [
        {
          "output_type": "display_data",
          "data": {
            "application/javascript": [
              "\n",
              "    async function download(id, filename, size) {\n",
              "      if (!google.colab.kernel.accessAllowed) {\n",
              "        return;\n",
              "      }\n",
              "      const div = document.createElement('div');\n",
              "      const label = document.createElement('label');\n",
              "      label.textContent = `Downloading \"${filename}\": `;\n",
              "      div.appendChild(label);\n",
              "      const progress = document.createElement('progress');\n",
              "      progress.max = size;\n",
              "      div.appendChild(progress);\n",
              "      document.body.appendChild(div);\n",
              "\n",
              "      const buffers = [];\n",
              "      let downloaded = 0;\n",
              "\n",
              "      const channel = await google.colab.kernel.comms.open(id);\n",
              "      // Send a message to notify the kernel that we're ready.\n",
              "      channel.send({})\n",
              "\n",
              "      for await (const message of channel.messages) {\n",
              "        // Send a message to notify the kernel that we're ready.\n",
              "        channel.send({})\n",
              "        if (message.buffers) {\n",
              "          for (const buffer of message.buffers) {\n",
              "            buffers.push(buffer);\n",
              "            downloaded += buffer.byteLength;\n",
              "            progress.value = downloaded;\n",
              "          }\n",
              "        }\n",
              "      }\n",
              "      const blob = new Blob(buffers, {type: 'application/binary'});\n",
              "      const a = document.createElement('a');\n",
              "      a.href = window.URL.createObjectURL(blob);\n",
              "      a.download = filename;\n",
              "      div.appendChild(a);\n",
              "      a.click();\n",
              "      div.remove();\n",
              "    }\n",
              "  "
            ],
            "text/plain": [
              "<IPython.core.display.Javascript object>"
            ]
          },
          "metadata": {
            "tags": []
          }
        },
        {
          "output_type": "display_data",
          "data": {
            "application/javascript": [
              "download(\"download_dccceb73-7076-4933-a9a0-062b41ae0335\", \"validation_data.csv\", 202351)"
            ],
            "text/plain": [
              "<IPython.core.display.Javascript object>"
            ]
          },
          "metadata": {
            "tags": []
          }
        }
      ]
    },
    {
      "cell_type": "markdown",
      "metadata": {
        "id": "Ebh_YbyuvZ4G"
      },
      "source": [
        "#Classificação do Modelo"
      ]
    },
    {
      "cell_type": "markdown",
      "metadata": {
        "id": "rokZs_W3iRKg"
      },
      "source": [
        "##Dummy Classifier"
      ]
    },
    {
      "cell_type": "code",
      "metadata": {
        "colab": {
          "base_uri": "https://localhost:8080/"
        },
        "id": "FKAlb7j3iTdI",
        "outputId": "c17cc05d-6083-4669-c861-7744e8b2c2e8"
      },
      "source": [
        "from sklearn.dummy import DummyClassifier\r\n",
        "\r\n",
        "dummy_stratified = DummyClassifier(strategy='stratified')\r\n",
        "dummy_stratified.fit(sms_train, spam_naospam_train)\r\n",
        "acuracia = dummy_stratified.score(sms_test, spam_naospam_test) * 100\r\n",
        "\r\n",
        "print(\"A acurácia do dummy stratified foi de %.2f%%\" % acuracia)"
      ],
      "execution_count": 26,
      "outputs": [
        {
          "output_type": "stream",
          "text": [
            "A acurácia do dummy stratified foi de 61.56%\n"
          ],
          "name": "stdout"
        }
      ]
    },
    {
      "cell_type": "markdown",
      "metadata": {
        "id": "FBxWjT3XLJkR"
      },
      "source": [
        "##Matriz de Confusão"
      ]
    },
    {
      "cell_type": "code",
      "metadata": {
        "colab": {
          "base_uri": "https://localhost:8080/"
        },
        "id": "p-ssbD-ZLlGJ",
        "outputId": "c700afc2-d285-4b86-9851-848ec9fd31ad"
      },
      "source": [
        "spam_naospam_test.shape"
      ],
      "execution_count": 27,
      "outputs": [
        {
          "output_type": "execute_result",
          "data": {
            "text/plain": [
              "(1800,)"
            ]
          },
          "metadata": {
            "tags": []
          },
          "execution_count": 27
        }
      ]
    },
    {
      "cell_type": "code",
      "metadata": {
        "colab": {
          "base_uri": "https://localhost:8080/"
        },
        "id": "NAPZFyi_M8MF",
        "outputId": "08023223-4cd5-4960-c0da-66fe91b94a9d"
      },
      "source": [
        "from sklearn.metrics import confusion_matrix\r\n",
        "confusion_matrix(spam_naospam_test,predicao)"
      ],
      "execution_count": 28,
      "outputs": [
        {
          "output_type": "execute_result",
          "data": {
            "text/plain": [
              "array([[ 446,   28],\n",
              "       [   3, 1323]])"
            ]
          },
          "metadata": {
            "tags": []
          },
          "execution_count": 28
        }
      ]
    },
    {
      "cell_type": "code",
      "metadata": {
        "colab": {
          "base_uri": "https://localhost:8080/",
          "height": 296
        },
        "id": "6BX3m5R_LHhv",
        "outputId": "31caa064-1285-43ff-e594-6d790077eec5"
      },
      "source": [
        "from sklearn.metrics import confusion_matrix, ConfusionMatrixDisplay\r\n",
        "\r\n",
        "cm = confusion_matrix(spam_naospam_test,predicao,labels=modelo.classes_,normalize='all')\r\n",
        "disp = ConfusionMatrixDisplay(confusion_matrix=cm, display_labels=modelo.classes_)\r\n",
        "disp.plot()"
      ],
      "execution_count": 29,
      "outputs": [
        {
          "output_type": "execute_result",
          "data": {
            "text/plain": [
              "<sklearn.metrics._plot.confusion_matrix.ConfusionMatrixDisplay at 0x7f6f6ffe5748>"
            ]
          },
          "metadata": {
            "tags": []
          },
          "execution_count": 29
        },
        {
          "output_type": "display_data",
          "data": {
            "image/png": "[encoded data removed]",
            "text/plain": [
              "<Figure size 432x288 with 2 Axes>"
            ]
          },
          "metadata": {
            "tags": [],
            "needs_background": "light"
          }
        }
      ]
    },
    {
      "cell_type": "markdown",
      "metadata": {
        "id": "ZRWPPTogSwvR"
      },
      "source": [
        "##K-Fold"
      ]
    },
    {
      "cell_type": "code",
      "metadata": {
        "colab": {
          "base_uri": "https://localhost:8080/"
        },
        "id": "MwhzEtGaSz2j",
        "outputId": "8b4c35bc-1b7a-465f-d382-37d2d7887a66"
      },
      "source": [
        "from sklearn.model_selection import cross_val_score\r\n",
        "\r\n",
        "kfolds = 5\r\n",
        "scores = cross_val_score(modelo, sms_matriz,sms.LABEL, cv = kfolds, scoring = \"accuracy\") \r\n",
        "print(\"Resultado dos k testes\", scores)\r\n",
        "print(\"Média dos testes\", scores.mean())\r\n",
        "print(\"Desvio Padrão dos testes\", scores.std())"
      ],
      "execution_count": 47,
      "outputs": [
        {
          "output_type": "stream",
          "text": [
            "Resultado dos k testes [0.88083333 0.8225     0.9925     1.         1.        ]\n",
            "Média dos testes 0.9391666666666666\n",
            "Desvio Padrão dos testes 0.07383728356626106\n"
          ],
          "name": "stdout"
        }
      ]
    }
  ]
}